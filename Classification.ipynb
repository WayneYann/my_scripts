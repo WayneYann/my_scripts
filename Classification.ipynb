{
 "cells": [
  {
   "cell_type": "code",
   "execution_count": 1,
   "metadata": {
    "collapsed": false
   },
   "outputs": [],
   "source": [
    "import os\n",
    "\n",
    "from rmgpy.molecule import Molecule\n",
    "from rmgpy.reaction import Reaction\n",
    "from rmgpy.species import Species\n",
    "from rmgpy.data.kinetics import KineticsFamily, ReactionRecipe, KineticsDatabase\n",
    "\n",
    "from rmg_helper_functions import find_reaction_folder, load_mechanism, get_rmg_reaction\n",
    "\n",
    "import pandas as pd"
   ]
  },
  {
   "cell_type": "code",
   "execution_count": 2,
   "metadata": {
    "collapsed": false
   },
   "outputs": [
    {
     "name": "stdout",
     "output_type": "stream",
     "text": [
      "Loading RMG Database ...\n",
      "Finished loading RMG Database ...\n"
     ]
    }
   ],
   "source": [
    "database, reaction_list, species_dict = load_mechanism(\n",
    "        'sih4_mech/chem_edge_annotated.inp', 'sih4_mech/species_edge_dictionary.txt')"
   ]
  },
  {
   "cell_type": "code",
   "execution_count": 3,
   "metadata": {
    "collapsed": false
   },
   "outputs": [
    {
     "name": "stdout",
     "output_type": "stream",
     "text": [
      "('Silylene_Insertion\\n', 'H2(11)+Si2(37)=SiH2Si(16)                           4.200e+06 1.970     -0.454   \\n')\n",
      "[Species(label=\"\", molecule=[Molecule(SMILES=\"[H][H]\")]), Species(label=\"\", molecule=[Molecule(SMILES=\"[Si]=[Si]\")])] [Species(label=\"\", molecule=[Molecule(SMILES=\"[Si]=[SiH2]\")])]\n"
     ]
    },
    {
     "data": {
      "image/png": "[encoded data removed]",
      "text/plain": [
       "Reaction(reactants=[Species(label=\"\", molecule=[Molecule(SMILES=\"[H][H]\")]), Species(label=\"\", molecule=[Molecule(SMILES=\"[Si]=[Si]\")])], products=[Species(label=\"\", molecule=[Molecule(SMILES=\"[Si]=[SiH2]\")])], degeneracy=4, pairs=[(Species(label=\"\", molecule=[Molecule(SMILES=\"[H][H]\")]), Species(label=\"\", molecule=[Molecule(SMILES=\"[Si]=[SiH2]\")])), (Species(label=\"\", molecule=[Molecule(SMILES=\"[Si]=[Si]\")]), Species(label=\"\", molecule=[Molecule(SMILES=\"[Si]=[SiH2]\")]))])"
      ]
     },
     "execution_count": 3,
     "metadata": {},
     "output_type": "execute_result"
    }
   ],
   "source": [
    "print reaction_list[5]\n",
    "rxn = get_rmg_reaction(database, species_dict, 'Silylene_Insertion', reaction_list[5][1])\n",
    "print rxn.reactants, rxn.products\n",
    "rxn"
   ]
  },
  {
   "cell_type": "code",
   "execution_count": 4,
   "metadata": {
    "collapsed": true
   },
   "outputs": [],
   "source": [
    "def get_features(reaction):\n",
    "    \"\"\"\n",
    "    Given a rmgpy.reaction.Reaction() 'reaction', calculate the value of \n",
    "    the features for this reaction and return as a dictionary\n",
    "    \n",
    "    Currently specific to Silylene Insertion reactions\n",
    "    \"\"\"\n",
    "    features = ['reaction', 'H2', 'Sirad_H', 'Sirad_Si_H', 'Sid_H', 'Sid_Si_H', 'sil_H2', 'sil_rad', 'sil_d', 'Success Rate']\n",
    "    feature_dict = dict.fromkeys(features[:-1], False)\n",
    "    feature_dict.update(dict.fromkeys(['reaction'], \n",
    "                                      '+'.join([r.molecule[0].toSMILES() for r in reaction.reactants]) \n",
    "                                      + '_' + '+'.join([p.molecule[0].toSMILES() for p in reaction.products])))\n",
    "    \n",
    "    if '[H][H]' in [r.molecule[0].toSMILES() for r in reaction.reactants]:\n",
    "        feature_dict.update(dict.fromkeys(['H2'], True))\n",
    "    else:\n",
    "        for r in reaction.reactants:\n",
    "            try:\n",
    "                si_h = r.molecule[0].getLabeledAtom('*1')\n",
    "            except:\n",
    "                pass\n",
    "        if si_h.radicalElectrons > 0:\n",
    "            feature_dict.update(dict.fromkeys(['Sirad_H'], True))\n",
    "        for atom, bond in si_h.bonds.items():\n",
    "            if atom.element.symbol == 'Si':\n",
    "                if atom.radicalElectrons > 0:\n",
    "                    feature_dict.update(dict.fromkeys(['Sirad_Si_H'], True))\n",
    "                for atom2, bond2 in atom.bonds.items():\n",
    "                    if atom2 != si_h and bond2.order == 'D':\n",
    "                        feature_dict.update(dict.fromkeys(['Sid_Si_H'], True))\n",
    "            if bond.order == 'D':\n",
    "                feature_dict.update(dict.fromkeys(['Sid_H'], True))\n",
    "    \n",
    "    for r in reaction.reactants:\n",
    "        try:\n",
    "            sil_h = r.molecule[0].getLabeledAtom('*3')\n",
    "        except:\n",
    "            pass\n",
    "    neighbor_atoms = [neighbor[0] for neighbor in sil_h.bonds.items()]\n",
    "    if len(neighbor_atoms) == 2 and all([neighbor.symbol == 'H' for neighbor in neighbor_atoms]):\n",
    "        feature_dict.update(dict.fromkeys(['sil_H2'], True))\n",
    "    else:\n",
    "        if sil_h.radicalElectrons > 0:\n",
    "            feature_dict.update(dict.fromkeys(['sil_rad'], True))\n",
    "        for atom, bond in sil_h.bonds.items():\n",
    "            if bond.order == 'D':\n",
    "                feature_dict.update(dict.fromkeys(['sil_d'], True))\n",
    "\n",
    "    return feature_dict"
   ]
  },
  {
   "cell_type": "code",
   "execution_count": 5,
   "metadata": {
    "collapsed": false
   },
   "outputs": [
    {
     "name": "stdout",
     "output_type": "stream",
     "text": [
      "{'sil_d': True, 'reaction': '[H][H]+[Si]=[Si]_[Si]=[SiH2]', 'sil_rad': False, 'Sid_H': False, 'H2': True, 'Sirad_H': False, 'sil_H2': False, 'Sirad_Si_H': False, 'Sid_Si_H': False}\n"
     ]
    }
   ],
   "source": [
    "print get_features(rxn)"
   ]
  },
  {
   "cell_type": "code",
   "execution_count": 6,
   "metadata": {
    "collapsed": false
   },
   "outputs": [],
   "source": [
    "def get_success(reaction):\n",
    "    \"\"\"\n",
    "    Given a rmgpy.reaction.Reaction() 'reaction', get whether the TS calculation succeeded or how it\n",
    "    failed (success, false positive, failure1, failure2)\n",
    "    \n",
    "    Currently, will only work if reaction is bimolecular->unimolecular (2 reactants->1)\n",
    "    \"\"\"\n",
    "    scratch_dir = os.getenv('SCRATCH') \n",
    "    if scratch_dir is None:\n",
    "        scratch_dir = os.getenv('RMGpy')\n",
    "    \n",
    "    success = None\n",
    "    family = reaction.family\n",
    "    try:\n",
    "        my_folder = find_reaction_folder(reaction)\n",
    "    except TypeError:\n",
    "        print \"Couldn't find any folders for the reaction: {0}+{1}->{2}\".format(\n",
    "            reaction.reactant[0].molecule[0].toSMILES(), reaction.reactant[1].molecule[0].toSMILES,\n",
    "            reaction.product[0].molecule[0].toSMILES())\n",
    "    \n",
    "    if my_folder:\n",
    "        if os.path.exists(os.path.join(scratch_dir, 'QMfiles/Reactions', family, 'false_positives', my_folder)):\n",
    "            success = 'FP' # false positive\n",
    "        else:\n",
    "            if os.path.exists(os.path.join(scratch_dir, 'QMfiles/Reactions', family, my_folder, 'm062x', 'error.txt')):\n",
    "                with open(os.path.join(scratch_dir, 'QMfiles/Reactions', family, my_folder, 'm062x', 'error.txt')) as error_file:\n",
    "                    for line in error_file: # There should only be one\n",
    "                        if line.strip().startswith('Success'):\n",
    "                            success = 'S'\n",
    "                            break\n",
    "                        if line.strip().startswith('TS not converged'):\n",
    "                            success = 'F1' # TS not converged failure\n",
    "                            break\n",
    "                        if line.strip().startswith('IRC failed'):\n",
    "                            success = 'F2' # IRC failure\n",
    "                            break\n",
    "                if success is None:\n",
    "                    print \"Strange error {0} in reaction {1}\".format(line, my_folder)\n",
    "            elif os.path.exists(os.path.join(scratch_dir, 'QMfiles/Reactions', family, my_folder, 'm062x', 'optDists.txt')):\n",
    "                success = 'S'\n",
    "            else:\n",
    "                print \"Not sure about reaction {0}, has contents {1}\".format(my_folder, \n",
    "                            ' , '.join(os.listdir(os.path.join(scratch_dir, 'QMfiles/Reactions', \n",
    "                                                               family, my_folder, 'm062x'))))\n",
    "\n",
    "    return success"
   ]
  },
  {
   "cell_type": "code",
   "execution_count": 7,
   "metadata": {
    "collapsed": false
   },
   "outputs": [
    {
     "name": "stdout",
     "output_type": "stream",
     "text": [
      "F2\n"
     ]
    }
   ],
   "source": [
    "print get_success(rxn)"
   ]
  },
  {
   "cell_type": "code",
   "execution_count": 8,
   "metadata": {
    "collapsed": false
   },
   "outputs": [],
   "source": [
    "def get_family_data(family):\n",
    "    \"\"\"\n",
    "    Given a reaction family 'family' as string, returns a pandas.DataFrame that has the features for each\n",
    "    reaction in a mechanism, in the family, that had a TS calculation done and what the success code is. \n",
    "    \n",
    "    Features only will be relevant for silylene insertion\n",
    "    \"\"\"\n",
    "    data = []\n",
    "\n",
    "    rmg_database, reaction_list, species_dict = load_mechanism(\n",
    "        'sih4_mech/chem_edge_annotated.inp', 'sih4_mech/species_edge_dictionary.txt')\n",
    "\n",
    "    for reaction_tuple in reaction_list:\n",
    "        rxn_family, reaction_line = reaction_tuple\n",
    "        if rxn_family.strip() == family:\n",
    "            reaction = get_rmg_reaction(rmg_database, species_dict, family, reaction_line)\n",
    "\n",
    "            if reaction is not None:\n",
    "                features_for_reaction = get_features(reaction)\n",
    "                features_for_reaction['Success Code'] = get_success(reaction)\n",
    "                data.append(features_for_reaction)\n",
    "            else:\n",
    "                print \"No RMG reactions found for reaction {0}\".format(reaction_line.split()[0])\n",
    "\n",
    "    return pd.DataFrame().from_dict(data)"
   ]
  },
  {
   "cell_type": "code",
   "execution_count": 9,
   "metadata": {
    "collapsed": false
   },
   "outputs": [
    {
     "name": "stderr",
     "output_type": "stream",
     "text": [
      "WARNING:root:Should only make one instance of RMGDatabase because it's stored as a module-level variable!\n",
      "WARNING:root:Unexpected behaviour may result!\n"
     ]
    },
    {
     "name": "stdout",
     "output_type": "stream",
     "text": [
      "Loading RMG Database ...\n",
      "Finished loading RMG Database ...\n",
      "No RMG reactions found for reaction SiH3SiH(8)+SiH3SiH(8)=H8Si4(10)\n",
      "Not sure about reaction [H][H]+[SiH][SiH]=[SiH]_[SiH]=[SiH][SiH3], has contents estDists.txt\n",
      "Not sure about reaction [H][H]+[Si]1[SiH][SiH2]1_[SiH]1[SiH2][SiH2]1, has contents \n",
      "Not sure about reaction [SiH2]+[Si]=[SiH2]_[Si]=[SiH][SiH3], has contents \n",
      "Not sure about reaction [SiH4]+[Si]=[Si]_[Si]=[SiH][SiH3], has contents \n",
      "Not sure about reaction [SiH3]+[SiH]_[SiH2][SiH2], has contents \n",
      "Not sure about reaction [SiH2][SiH3]+[SiH]_[SiH2][SiH2][SiH2], has contents \n"
     ]
    }
   ],
   "source": [
    "family_data = get_family_data('Silylene_Insertion')"
   ]
  },
  {
   "cell_type": "code",
   "execution_count": 10,
   "metadata": {
    "collapsed": false
   },
   "outputs": [
    {
     "name": "stdout",
     "output_type": "stream",
     "text": [
      "      H2  Sid_H Sid_Si_H Sirad_H Sirad_Si_H Success Code  \\\n",
      "0  False  False    False   False      False           FP   \n",
      "1  False  False    False    True      False           F2   \n",
      "2   True  False    False   False      False            S   \n",
      "3   True  False    False   False      False           F2   \n",
      "4  False   True    False   False      False           FP   \n",
      "\n",
      "                                  reaction sil_H2  sil_d sil_rad  \n",
      "0     [SiH2]+[SiH][SiH3]_[SiH][SiH2][SiH3]   True  False   False  \n",
      "1               [SiH3]+[SiH2]_[SiH2][SiH3]   True  False   False  \n",
      "2         [H][H]+[Si]=[SiH2]_[SiH2]=[SiH2]  False   True   False  \n",
      "3             [H][H]+[Si]=[Si]_[Si]=[SiH2]  False   True   False  \n",
      "4  [SiH2]+[SiH2]=[SiH2]_[SiH2]=[SiH][SiH3]   True  False   False  \n"
     ]
    }
   ],
   "source": [
    "print family_data.head()"
   ]
  },
  {
   "cell_type": "code",
   "execution_count": 11,
   "metadata": {
    "collapsed": false
   },
   "outputs": [
    {
     "name": "stdout",
     "output_type": "stream",
     "text": [
      "(84, 10)\n"
     ]
    }
   ],
   "source": [
    "family_data = family_data[family_data['Success Code'].notnull()]\n",
    "print family_data.shape"
   ]
  },
  {
   "cell_type": "code",
   "execution_count": 118,
   "metadata": {
    "collapsed": true
   },
   "outputs": [],
   "source": [
    "import numpy as np\n",
    "import matplotlib.pyplot as plt\n",
    "import seaborn\n",
    "%matplotlib inline"
   ]
  },
  {
   "cell_type": "code",
   "execution_count": 13,
   "metadata": {
    "collapsed": false
   },
   "outputs": [
    {
     "data": {
      "image/png": "[encoded data removed]",
      "text/plain": [
       "<matplotlib.figure.Figure at 0x11627eed0>"
      ]
     },
     "metadata": {},
     "output_type": "display_data"
    }
   ],
   "source": [
    "family_data.groupby('Success Code').size().plot(kind='bar')\n",
    "plt.xlabel('Success Code')\n",
    "plt.ylabel('Frequency')\n",
    "plt.show()"
   ]
  },
  {
   "cell_type": "code",
   "execution_count": 14,
   "metadata": {
    "collapsed": false
   },
   "outputs": [
    {
     "data": {
      "text/plain": [
       "<matplotlib.axes._subplots.AxesSubplot at 0x116cc7490>"
      ]
     },
     "execution_count": 14,
     "metadata": {},
     "output_type": "execute_result"
    },
    {
     "data": {
      "image/png": "[encoded data removed]",
      "text/plain": [
       "<matplotlib.figure.Figure at 0x11627eb90>"
      ]
     },
     "metadata": {},
     "output_type": "display_data"
    }
   ],
   "source": [
    "average_H2_value = family_data.groupby('Success Code')['H2', 'Sirad_H', 'sil_H2'].mean()\n",
    "average_H2_value.plot.bar()"
   ]
  },
  {
   "cell_type": "code",
   "execution_count": 29,
   "metadata": {
    "collapsed": false
   },
   "outputs": [],
   "source": [
    "from sklearn.cross_validation import ShuffleSplit, cross_val_score, train_test_split, StratifiedKFold\n",
    "from sklearn.linear_model import LogisticRegression\n",
    "from sklearn.metrics import confusion_matrix"
   ]
  },
  {
   "cell_type": "code",
   "execution_count": 58,
   "metadata": {
    "collapsed": false
   },
   "outputs": [],
   "source": [
    "y = family_data['Success Code']\n",
    "X = family_data[[column for column in family_data.columns if column not in ['Success Code', 'reaction']]]"
   ]
  },
  {
   "cell_type": "code",
   "execution_count": 59,
   "metadata": {
    "collapsed": false
   },
   "outputs": [
    {
     "data": {
      "text/plain": [
       "LogisticRegression(C=1.0, class_weight='balanced', dual=False,\n",
       "          fit_intercept=True, intercept_scaling=1, max_iter=100,\n",
       "          multi_class='ovr', n_jobs=1, penalty='l2', random_state=None,\n",
       "          solver='liblinear', tol=0.0001, verbose=0, warm_start=False)"
      ]
     },
     "execution_count": 59,
     "metadata": {},
     "output_type": "execute_result"
    }
   ],
   "source": [
    "log_reg = LogisticRegression(class_weight='balanced')#)#LogisticRegression(multi_class='multinomial', solver='lbfgs')\n",
    "X_train, X_test, y_train, y_test = train_test_split(X, y, test_size = 0.1, random_state=9)\n",
    "log_reg.fit(X_train, y_train)"
   ]
  },
  {
   "cell_type": "code",
   "execution_count": 48,
   "metadata": {
    "collapsed": false
   },
   "outputs": [
    {
     "data": {
      "text/plain": [
       "0.33333333333333331"
      ]
     },
     "execution_count": 48,
     "metadata": {},
     "output_type": "execute_result"
    }
   ],
   "source": [
    "log_reg.score(X_test, y_test)"
   ]
  },
  {
   "cell_type": "code",
   "execution_count": 49,
   "metadata": {
    "collapsed": false
   },
   "outputs": [
    {
     "name": "stdout",
     "output_type": "stream",
     "text": [
      "[[-0.90887429 -0.39256192  0.         -1.08285807 -0.34011868  0.38676511\n",
      "  -0.90485553  0.27446056]\n",
      " [-0.26252448 -0.14887944  0.          1.13325992  0.53554691 -0.6663393\n",
      "  -0.19836672  0.08854409]\n",
      " [ 0.14009917  1.17564333  0.         -1.61544298 -0.85359262  0.8195382\n",
      "   1.07119755 -0.00523718]\n",
      " [ 0.73694061 -0.54390818  0.         -0.3272543  -0.48986097 -0.16169698\n",
      "   0.12608289 -1.04195759]]\n",
      "['F1' 'F2' 'FP' 'S']\n",
      "Index([u'H2', u'Sid_H', u'Sid_Si_H', u'Sirad_H', u'Sirad_Si_H', u'sil_H2',\n",
      "       u'sil_d', u'sil_rad'],\n",
      "      dtype='object')\n"
     ]
    }
   ],
   "source": [
    "print log_reg.coef_\n",
    "print log_reg.classes_\n",
    "print X.columns"
   ]
  },
  {
   "cell_type": "code",
   "execution_count": 50,
   "metadata": {
    "collapsed": false
   },
   "outputs": [
    {
     "data": {
      "text/plain": [
       "[('F2', 'F2'),\n",
       " ('F1', 'F2'),\n",
       " ('S', 'S'),\n",
       " ('F2', 'S'),\n",
       " ('F1', 'F2'),\n",
       " ('F2', 'FP'),\n",
       " ('F2', 'FP'),\n",
       " ('F2', 'F2'),\n",
       " ('F2', 'S')]"
      ]
     },
     "execution_count": 50,
     "metadata": {},
     "output_type": "execute_result"
    }
   ],
   "source": [
    "zip(y_test, log_reg.predict(X_test))"
   ]
  },
  {
   "cell_type": "markdown",
   "metadata": {},
   "source": [
    "Try doing StratifiedKFold for cross validation- keep training and test set with proportional number of class labels "
   ]
  },
  {
   "cell_type": "code",
   "execution_count": 63,
   "metadata": {
    "collapsed": false
   },
   "outputs": [
    {
     "name": "stdout",
     "output_type": "stream",
     "text": [
      "0.48275862069\n",
      "[('FP', 'F1'), ('F2', 'F2'), ('S', 'FP'), ('F2', 'FP'), ('FP', 'F1'), ('F2', 'FP'), ('S', 'F2'), ('F1', 'F2'), ('F2', 'F2'), ('FP', 'F2'), ('F2', 'F2'), ('F2', 'F2'), ('F2', 'F2'), ('F2', 'F2'), ('F2', 'F2'), ('F2', 'S'), ('F2', 'F2'), ('F2', 'F2'), ('F2', 'F2'), ('F2', 'F2'), ('F1', 'S'), ('F2', 'F2'), ('S', 'F2'), ('F2', 'S'), ('F1', 'F2'), ('S', 'S'), ('F2', 'F2'), ('F1', 'F2'), ('F1', 'F2')]\n",
      "\n",
      "\n",
      "0.25\n",
      "[('FP', 'S'), ('FP', 'F2'), ('F1', 'F2'), ('S', 'S'), ('S', 'FP'), ('F2', 'S'), ('F2', 'S'), ('F1', 'FP'), ('S', 'S'), ('S', 'S'), ('F2', 'FP'), ('F2', 'FP'), ('F2', 'FP'), ('F1', 'F2'), ('F1', 'S'), ('F2', 'S'), ('F2', 'S'), ('F2', 'S'), ('F2', 'F2'), ('F2', 'F2'), ('F2', 'F2'), ('F2', 'S'), ('F2', 'F1'), ('F2', 'F2'), ('F2', 'S'), ('F2', 'S'), ('F2', 'S'), ('F1', 'F2')]\n",
      "\n",
      "\n",
      "0.592592592593\n",
      "[('FP', 'S'), ('S', 'F2'), ('S', 'F1'), ('S', 'F2'), ('S', 'F2'), ('FP', 'S'), ('F2', 'F2'), ('F1', 'F2'), ('F2', 'F2'), ('F2', 'F2'), ('F2', 'F2'), ('F2', 'F2'), ('F2', 'F2'), ('F2', 'F2'), ('F2', 'F1'), ('F2', 'F2'), ('F2', 'F2'), ('F2', 'F2'), ('F2', 'F2'), ('F2', 'F2'), ('F1', 'F2'), ('F2', 'F2'), ('F2', 'F2'), ('F1', 'F2'), ('F2', 'F2'), ('F1', 'F2'), ('F2', 'F2')]\n",
      "\n",
      "\n",
      "Avg score: 0.442\n"
     ]
    }
   ],
   "source": [
    "cv_skf = StratifiedKFold(y, random_state=9)\n",
    "sum_scores = 0.0\n",
    "for train_index, test_index in cv_skf:\n",
    "    X_train, X_test = X.iloc[train_index,:], X.iloc[test_index,:]\n",
    "    y_train, y_test = y.iloc[train_index], y.iloc[test_index]\n",
    "    log_reg.fit(X_train, y_train)\n",
    "    sum_scores += log_reg.score(X_test, y_test)\n",
    "    print log_reg.score(X_test, y_test)\n",
    "    print zip(y_test, log_reg.predict(X_test))\n",
    "    print '\\n'\n",
    "print \"Avg score: {0}\".format(round(sum_scores/len(cv_skf), 3))"
   ]
  },
  {
   "cell_type": "code",
   "execution_count": 64,
   "metadata": {
    "collapsed": false
   },
   "outputs": [],
   "source": [
    "predictions = log_reg.predict(X)\n",
    "performance = pd.DataFrame(data=zip(y, predictions), columns = ['Actual', 'Prediction'])"
   ]
  },
  {
   "cell_type": "code",
   "execution_count": 108,
   "metadata": {
    "collapsed": false
   },
   "outputs": [
    {
     "name": "stdout",
     "output_type": "stream",
     "text": [
      "   S  FP  F1  F2\n",
      "0  2   0   1   9\n",
      "1  2   3   0   2\n",
      "2  0   1   6   7\n",
      "3  1   3   5  42\n"
     ]
    }
   ],
   "source": [
    "cm = confusion_matrix(y, predictions, labels=['S', 'FP', 'F1', 'F2'])\n",
    "cm_df = pd.DataFrame(data=cm, columns=['S', 'FP', 'F1', 'F2'])\n",
    "print cm_df"
   ]
  },
  {
   "cell_type": "code",
   "execution_count": 109,
   "metadata": {
    "collapsed": false
   },
   "outputs": [],
   "source": [
    "percents = cm_df.iloc[:].transpose().apply(lambda x: x/x.sum()).transpose()"
   ]
  },
  {
   "cell_type": "code",
   "execution_count": 120,
   "metadata": {
    "collapsed": false
   },
   "outputs": [
    {
     "name": "stdout",
     "output_type": "stream",
     "text": [
      "          S        FP        F1        F2\n",
      "0  0.166667  0.000000  0.083333  0.750000\n",
      "1  0.285714  0.428571  0.000000  0.285714\n",
      "2  0.000000  0.071429  0.428571  0.500000\n",
      "3  0.019608  0.058824  0.098039  0.823529\n"
     ]
    },
    {
     "data": {
      "text/plain": [
       "([<matplotlib.axis.XTick at 0x116e54d90>,\n",
       "  <matplotlib.axis.XTick at 0x115e0dc90>,\n",
       "  <matplotlib.axis.XTick at 0x11508b190>,\n",
       "  <matplotlib.axis.XTick at 0x11508b810>],\n",
       " <a list of 4 Text xticklabel objects>)"
      ]
     },
     "execution_count": 120,
     "metadata": {},
     "output_type": "execute_result"
    },
    {
     "data": {
      "image/png": "[encoded data removed]",
      "text/plain": [
       "<matplotlib.figure.Figure at 0x116e62fd0>"
      ]
     },
     "metadata": {},
     "output_type": "display_data"
    }
   ],
   "source": [
    "print percents\n",
    "percents.plot.bar()\n",
    "plt.xticks(np.arange(4), ('S', 'FP', 'F1', 'F2') )"
   ]
  },
  {
   "cell_type": "markdown",
   "metadata": {},
   "source": [
    "#### Do a grid search to figure out best parameters for model (ie size of test set etc.)\n",
    "#### Include more features, remove unnecessary (Sid_Si_H is always False for this set)"
   ]
  },
  {
   "cell_type": "markdown",
   "metadata": {},
   "source": [
    "Remove features which may not be independent\n",
    "\n",
    "For example, if H2 is true, then all the Si_H ones are false"
   ]
  },
  {
   "cell_type": "code",
   "execution_count": 60,
   "metadata": {
    "collapsed": false
   },
   "outputs": [
    {
     "data": {
      "text/plain": [
       "0.33333333333333331"
      ]
     },
     "execution_count": 60,
     "metadata": {},
     "output_type": "execute_result"
    }
   ],
   "source": [
    "X = family_data[[column for column in family_data.columns if column not in ['Success Code', 'reaction', 'H2', 'sil_H2']]]\n",
    "\n",
    "X_train, X_test, y_train, y_test = train_test_split(X, y, test_size = 0.1, random_state = 9)\n",
    "log_reg.fit(X_train, y_train)\n",
    "log_reg.score(X_test, y_test)"
   ]
  }
 ],
 "metadata": {
  "kernelspec": {
   "display_name": "Python 2",
   "language": "python",
   "name": "python2"
  },
  "language_info": {
   "codemirror_mode": {
    "name": "ipython",
    "version": 2
   },
   "file_extension": ".py",
   "mimetype": "text/x-python",
   "name": "python",
   "nbconvert_exporter": "python",
   "pygments_lexer": "ipython2",
   "version": "2.7.5"
  }
 },
 "nbformat": 4,
 "nbformat_minor": 1
}
